{
 "cells": [
  {
   "cell_type": "code",
   "execution_count": null,
   "id": "initial_id",
   "metadata": {
    "collapsed": true
   },
   "outputs": [],
   "source": [
    "# Even overgestapt naar de Jupyter Notebook-look omdat het opschonen en transformeren daarin veel soepeler gaat\n",
    "# Transforming the CSV\n",
    "from classes import read_it, NEW_CSV_PATH\n",
    "import pandas as pd\n",
    "\n",
    "df = read_it()"
   ]
  },
  {
   "cell_type": "code",
   "outputs": [],
   "source": [
    "df = df.loc[df['status']=='PAID'] # alleen de transacties die succesvol zijn\n",
    "\n",
    "unequal = df.loc[df['price']!=df['worth']] # Even kijken of er verschil is tussen de kolommen. Is er niet, dus droppen\n",
    "df.drop('worth', axis=1, inplace=True)\n",
    "\n",
    "# Overige kolommen verwijderen die we voor de huidige analyse niet nodig hebben\n",
    "df.drop(['order_id', \n",
    "         'product_id',\n",
    "         'status']\n",
    "         ,axis=1, inplace=True)"
   ],
   "metadata": {
    "collapsed": false
   },
   "id": "6ecf272ed0657b6a",
   "execution_count": null
  },
  {
   "cell_type": "code",
   "outputs": [],
   "source": [
    "# extra kolommen aanmaken die maand of uur weergeven\n",
    "df['created_at'] = pd.to_datetime(df['created_at']) \n",
    "df['month'] = df['created_at'].dt.month\n",
    "df['hour'] = df['created_at'].dt.hour\n",
    "df['minute'] = df['created_at'].dt.minute\n",
    "\n",
    "# Prijs omrekenen zodat deze in euro's staat i.p.v. centen\n",
    "df['price'] = df['price']/100"
   ],
   "metadata": {
    "collapsed": false
   },
   "id": "c07878bb4546b626",
   "execution_count": null
  },
  {
   "cell_type": "code",
   "outputs": [],
   "source": [
    "# Functie die op basis van de tijd (uur) de transactie indeelt in een van de vijf tijdslots\n",
    "# OCHTEND: voor 12.00 uur (niet inclusief)\n",
    "# 1E MATINEE: 12.00 - 15.00 uur\n",
    "# 2E MATINEE: 15.00 - 17.00 uur\n",
    "# 1E AVOND: 17.00 - 20.00 uur\n",
    "# 2E AVOND: na 20.00 uur\n",
    "\n",
    "def tijdslot(hour):\n",
    "    if hour < 12:\n",
    "        return 'Ochtend'\n",
    "    elif 12 <= hour < 15:\n",
    "        return '1e Matinee'\n",
    "    elif 15 <= hour < 17:\n",
    "        return '2e Matinee'\n",
    "    elif 17 <= hour < 20:\n",
    "        return '1e Avond'\n",
    "    else:\n",
    "        return '2e Avond'\n",
    "\n",
    "df['tijdslot'] = df['hour'].apply(tijdslot)"
   ],
   "metadata": {
    "collapsed": false
   },
   "id": "b173c6843120ec76",
   "execution_count": null
  },
  {
   "cell_type": "code",
   "outputs": [],
   "source": [
    "# Alvast een paar kleine analyses uitvoeren\n",
    "\n",
    "# Welke product-categorie wordt het beste verkocht\n",
    "\n",
    "category_totals = df.groupby('category')['price'].sum().reset_index()\n",
    "category_totals.sort_values(by='price', ascending=False, inplace=True)\n",
    "print(category_totals.head(5))"
   ],
   "metadata": {
    "collapsed": false
   },
   "id": "8b83a1ef081f2cae",
   "execution_count": null
  },
  {
   "cell_type": "code",
   "outputs": [],
   "source": [
    "# Hoe vaak wordt elk product verkocht, wat is de top 5\n",
    "\n",
    "bestsellers = df['product_name'].value_counts().reset_index()\n",
    "bestsellers.columns = ['product_name', 'count']\n",
    "sorted_bestsellers = bestsellers.sort_values(by='count', ascending=False)\n",
    "print(sorted_bestsellers.head(5))"
   ],
   "metadata": {
    "collapsed": false
   },
   "id": "118379c6e51a8303",
   "execution_count": null
  },
  {
   "cell_type": "code",
   "outputs": [],
   "source": [
    "# In welke tijdslot wordt het meest omgezet\n",
    "\n",
    "best_tijdslot_grouped = df.groupby('tijdslot')['price'].sum().reset_index()\n",
    "print(best_tijdslot_grouped)"
   ],
   "metadata": {
    "collapsed": false
   },
   "id": "4f798cb5a399b6a7",
   "execution_count": null
  },
  {
   "cell_type": "code",
   "outputs": [],
   "source": [
    "# Wat zijn de drie meest verkopende producten in het tijdslot met de meeste omzet?\n",
    "\n",
    "best_tijdslot_index = best_tijdslot_grouped['price'].idxmax()\n",
    "best_tijdslot = best_tijdslot_grouped.loc[best_tijdslot_index, 'tijdslot']\n",
    "\n",
    "df_beste_tijdslot = df.loc[df['tijdslot'] == best_tijdslot]\n",
    "bestsellers_tijdslot = df_beste_tijdslot['product_name'].value_counts().reset_index()\n",
    "print(bestsellers_tijdslot.head(3))"
   ],
   "metadata": {
    "collapsed": false
   },
   "id": "9b5f29bf6c7279ab",
   "execution_count": null
  },
  {
   "cell_type": "code",
   "outputs": [],
   "source": [
    "# De getransformeerde dataframe opslaan met de nieuwe naam\n",
    "\n",
    "df.to_csv(NEW_CSV_PATH, index=False)"
   ],
   "metadata": {
    "collapsed": false
   },
   "id": "7363b833c5399535",
   "execution_count": null
  }
 ],
 "metadata": {
  "kernelspec": {
   "display_name": "Python 3",
   "language": "python",
   "name": "python3"
  },
  "language_info": {
   "codemirror_mode": {
    "name": "ipython",
    "version": 2
   },
   "file_extension": ".py",
   "mimetype": "text/x-python",
   "name": "python",
   "nbconvert_exporter": "python",
   "pygments_lexer": "ipython2",
   "version": "2.7.6"
  }
 },
 "nbformat": 4,
 "nbformat_minor": 5
}
