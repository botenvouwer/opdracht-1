{
 "cells": [
  {
   "cell_type": "code",
   "execution_count": 1,
   "id": "initial_id",
   "metadata": {
    "collapsed": true,
    "ExecuteTime": {
     "end_time": "2024-01-29T11:57:28.315100Z",
     "start_time": "2024-01-29T11:57:24.517696Z"
    }
   },
   "outputs": [],
   "source": [
    "from classes import read_it, NEW_EXCEL_PATH\n",
    "import pandas as pd\n",
    "\n",
    "df = read_it()"
   ]
  },
  {
   "cell_type": "code",
   "outputs": [],
   "source": [
    "# Dropping the unnecessary \n",
    "df.drop(['typetransaction', \n",
    "         'description',\n",
    "         'description2', \n",
    "         'description3', \n",
    "         'description4', \n",
    "         'status', \n",
    "         'country',\n",
    "         'merchanttransactionid',\n",
    "         'sitedescription'\n",
    "         ], axis=1, inplace=True)\n",
    "df.head()"
   ],
   "metadata": {
    "collapsed": false
   },
   "id": "8b6e223b030c7561",
   "execution_count": null
  },
  {
   "cell_type": "code",
   "outputs": [],
   "source": [
    "# Even de dubbele rijen netjes wegwerken met een pivot\n",
    "pivot_df = df.pivot_table(index=['completeddatetime', 'Firstname', 'Lastname'], columns='creditdebit', values='amount').reset_index()\n",
    "pivot_df.columns = ['completeddatetime', 'firstname', 'lastname', 'credit', 'debit']\n",
    "\n",
    "df = pivot_df"
   ],
   "metadata": {
    "collapsed": false
   },
   "id": "d2da3537f71d4e19",
   "execution_count": null
  },
  {
   "cell_type": "code",
   "outputs": [],
   "source": [
    "# wat informatie toevoegen\n",
    "df['debit'] = df['debit'].abs()\n",
    "df['completeddatetime'] = pd.to_datetime(df['completeddatetime']) \n",
    "df['month'] = df['completeddatetime'].dt.month\n",
    "df['day'] = df['completeddatetime'].dt.day\n",
    "df['time'] = df['completeddatetime'].dt.time\n",
    "df.head()"
   ],
   "metadata": {
    "collapsed": false
   },
   "id": "e1b2cb5e6d2e1f81",
   "execution_count": null
  },
  {
   "cell_type": "code",
   "outputs": [],
   "source": [
    "# De getransformeerde dataframe opslaan met de nieuwe naam\n",
    "# df.head()\n",
    "df.to_excel(NEW_EXCEL_PATH, index=False)"
   ],
   "metadata": {
    "collapsed": false,
    "ExecuteTime": {
     "end_time": "2024-01-29T11:59:44.032962Z",
     "start_time": "2024-01-29T11:59:43.924601Z"
    }
   },
   "id": "883fb4037493e914",
   "execution_count": 3
  },
  {
   "cell_type": "code",
   "outputs": [],
   "source": [],
   "metadata": {
    "collapsed": false
   },
   "id": "5415f07a67f3b1ba"
  }
 ],
 "metadata": {
  "kernelspec": {
   "display_name": "Python 3",
   "language": "python",
   "name": "python3"
  },
  "language_info": {
   "codemirror_mode": {
    "name": "ipython",
    "version": 2
   },
   "file_extension": ".py",
   "mimetype": "text/x-python",
   "name": "python",
   "nbconvert_exporter": "python",
   "pygments_lexer": "ipython2",
   "version": "2.7.6"
  }
 },
 "nbformat": 4,
 "nbformat_minor": 5
}
